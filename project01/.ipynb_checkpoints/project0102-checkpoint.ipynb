{
 "cells": [
  {
   "cell_type": "code",
   "execution_count": 7,
   "metadata": {
    "id": "bVYmSdu42KZf"
   },
   "outputs": [],
   "source": [
    "menu = ['americano', 'latte', 'mocha', 'yuza_tea', 'green_tea', 'choco_latte']\n",
    "price = [2000, 3000, 3000, 2500, 2500, 3000]"
   ]
  },
  {
   "cell_type": "code",
   "execution_count": 19,
   "metadata": {
    "id": "iU7hSWKq1mCp"
   },
   "outputs": [],
   "source": [
    "class Kiosk:\n",
    "    def __init__(self):\n",
    "        self.menu = ['americano', 'latte', 'mocha', 'yuza_tea', 'green_tea', 'choco_latte']\n",
    "        self.price = [2000, 3000, 3000, 2500, 2500, 3000]\n",
    "\n",
    "    def menu_print(self):\n",
    "        for i in range(len(self.menu)):\n",
    "            print(i + 1, self.menu[i], ' : ', self.price[i], '원')\n",
    "\n",
    "    def menu_select(self):\n",
    "        self.order_menu = []\n",
    "        self.order_price = []\n",
    "\n",
    "        n = 0\n",
    "        while n < 1 or len(menu) < n:\n",
    "            n = int(input(\"음료를 번호를 입력하세요 : \"))\n",
    "\n",
    "            if 1 <= n & n <= len(menu):\n",
    "                self.order_price.append(self.price[n-1])\n",
    "                self.price_sum = self.price[n-1]\n",
    "\n",
    "            else:\n",
    "                print(\"없는 메뉴입니다. 다시 주문해 주세요.\")\n",
    "\n",
    "\n",
    "        #\n",
    "        t = 0\n",
    "        while t != 1 and t != 2:\n",
    "            t= int(input(\"HOT 음료는 1을, ICE 음료는 2를 입력하세요 : \"))\n",
    "            if t == 1:\n",
    "                self.temp = 'HOT'\n",
    "            elif t == 2:\n",
    "                self.temp = 'ICE'\n",
    "            else:\n",
    "                print(\"1과 2 중 하나를 입력하세요.\\n\")\n",
    "\n",
    "        self.order_menu.append(self.temp + ' ' + self.menu[n - 1])\n",
    "        print(self.temp, self.menu[n - 1], ' : ', self.price[n - 1], '원')\n",
    "\n",
    "        # 추가 주문 또는 지불\n",
    "        while n != 0:\n",
    "            print()\n",
    "            n = int(input(\"추가 주문은 음료 번호를, 지불은 0을 누르세요 : \"))\n",
    "            if n > 0 and n < len(self.menu) + 1:\n",
    "                self.order_price.append(self.price[n -1])\n",
    "                t = 0\n",
    "                while t != 1 and t != 2:\n",
    "                    t= int(input(\"HOT 음료는 1을, ICE 음료는 2를 입력하세요 : \"))\n",
    "                    if t == 1:\n",
    "                        self.temp = 'HOT'\n",
    "                    elif t == 2:\n",
    "                        self.temp = 'ICE'\n",
    "                    else:\n",
    "                        print(\"1과 2 중 하나를 입력하세요.\\n\")\n",
    "                print('추가 주문 음료', self.temp, self.menu[n - 1], ' : ', self.price[n - 1], '원\\n', '합계 : ', sum(self.order_price))\n",
    "                self.order_menu.append(self.temp + ' ' + self.menu[n - 1])\n",
    "            else :\n",
    "                if n == 0:\n",
    "                    print(\"주문이 완료되었습니다.\")\n",
    "                    print(self.order_menu, self.order_price)\n",
    "                else:\n",
    "                    print(\"없는 메뉴입니다. 다시 주문해 주세요.\")\n",
    "    def pay(self):\n",
    "        method = int(input('결제 방법을 입력하세요. (현금은 1, 카드는 2) : '))\n",
    "        if method == 1:\n",
    "            print('직원을 호출하겠습니다.')\n",
    "        elif method == 2:\n",
    "            print('IC칩 방향에 맞게 카드를 꽂아주세요.')\n",
    "        else:\n",
    "            print('잘못된 결제 방법입니다.')"
   ]
  },
  {
   "cell_type": "code",
   "execution_count": 18,
   "metadata": {
    "colab": {
     "base_uri": "https://localhost:8080/"
    },
    "id": "HusapI2w1-ZH",
    "outputId": "835aedf2-24ed-4df3-919d-6126b881ca4d"
   },
   "outputs": [
    {
     "name": "stdout",
     "output_type": "stream",
     "text": [
      "1 americano  :  2000 원\n",
      "2 latte  :  3000 원\n",
      "3 mocha  :  3000 원\n",
      "4 yuza_tea  :  2500 원\n",
      "5 green_tea  :  2500 원\n",
      "6 choco_latte  :  3000 원\n",
      "음료를 번호를 입력하세요 : 1\n",
      "HOT 음료는 1을, ICE 음료는 2를 입력하세요 : 1\n",
      "HOT americano  :  2000 원\n",
      "\n",
      "추가 주문은 음료 번호를, 지불은 0을 누르세요 : 2\n",
      "HOT 음료는 1을, ICE 음료는 2를 입력하세요 : 2\n",
      "추가 주문 음료 ICE latte  :  3000 원\n",
      " 합계 :  2000\n",
      "\n",
      "추가 주문은 음료 번호를, 지불은 0을 누르세요 : 0\n",
      "주문이 완료되었습니다.\n",
      "['HOT americano', 'ICE latte'] [2000, 3000]\n",
      "결제 방법을 입력하세요. (현금은 1, 카드는 2) : 1\n",
      "직원을 호출하겠습니다.\n"
     ]
    }
   ],
   "source": [
    "a = Kiosk()\n",
    "a.menu_print()\n",
    "a.menu_select()\n",
    "a.pay()"
   ]
  }
 ],
 "metadata": {
  "colab": {
   "provenance": []
  },
  "kernelspec": {
   "display_name": "Python 3",
   "name": "python3"
  },
  "language_info": {
   "name": "python"
  }
 },
 "nbformat": 4,
 "nbformat_minor": 0
}
