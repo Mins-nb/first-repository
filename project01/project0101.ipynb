{
 "cells": [
  {
   "cell_type": "code",
   "execution_count": 3,
   "metadata": {
    "colab": {
     "base_uri": "https://localhost:8080/"
    },
    "id": "WQFgIdDezNA2",
    "outputId": "8e069c4a-5d26-4d59-d6ff-5f910cf1fc9c"
   },
   "outputs": [
    {
     "name": "stdout",
     "output_type": "stream",
     "text": [
      "넓이를 구하고 싶은 사각형의 숫자를 써주세요.\n",
      " 1.평행사변형 2.사다리꼴 \n",
      " >>>1\n",
      "평행사변형 함수는 par()입니다.\n",
      "밑변, 높이를 입력하세요. 예시 : 밑변,높이\n",
      " >>>2,3\n",
      "평행사변형의 넓이는 : 6\n"
     ]
    }
   ],
   "source": [
    "class Square:\n",
    "    def __init__(self):\n",
    "        self.square = int(input('넓이를 구하고 싶은 사각형의 숫자를 써주세요.\\n 1.평행사변형 2.사다리꼴 \\n >>>'))\n",
    "\n",
    "        if self.square == 1:\n",
    "            print('평행사변형 함수는 par()입니다.')\n",
    "\n",
    "        elif self.square == 2:\n",
    "            print('사다리꼴 함수는 trape()입니다.')\n",
    "\n",
    "        else:\n",
    "            print('1, 2 중에서 다시 입력해주세요')\n",
    "\n",
    "    def par(self):\n",
    "        base, height = map(int, input('밑변, 높이를 입력하세요. 예시 : 밑변,높이\\n >>>').split(','))\n",
    "        area = base * height\n",
    "        result = '평행사변형의 넓이는 : ' + str(area)\n",
    "        return result\n",
    "\n",
    "    def trape(self):\n",
    "        top, bottom, height = map(int, input('윗변, 아랫변, 높이를 입력하세요. 예시 : 윗변,아랫변,높이 \\n >>>').split(','))# [[YOUR CODE]]\n",
    "        area = (top + bottom) * height / 2\n",
    "        result = '사다리꼴의 넓이는 : ' + str(area)\n",
    "        return result\n",
    "\n",
    "a = Square()\n",
    "\n",
    "if a.square == 1:\n",
    "    print(a.par())\n",
    "elif a.square == 2:\n",
    "    print(a.trape())"
   ]
  }
 ],
 "metadata": {
  "colab": {
   "provenance": []
  },
  "kernelspec": {
   "display_name": "Python 3",
   "name": "python3"
  },
  "language_info": {
   "name": "python"
  }
 },
 "nbformat": 4,
 "nbformat_minor": 0
}
